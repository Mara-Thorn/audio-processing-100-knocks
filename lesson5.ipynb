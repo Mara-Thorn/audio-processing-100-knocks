{
  "nbformat": 4,
  "nbformat_minor": 0,
  "metadata": {
    "colab": {
      "name": "lesson5.ipynb",
      "provenance": [],
      "include_colab_link": true
    },
    "kernelspec": {
      "name": "python3",
      "display_name": "Python 3"
    }
  },
  "cells": [
    {
      "cell_type": "markdown",
      "metadata": {
        "id": "view-in-github",
        "colab_type": "text"
      },
      "source": [
        "<a href=\"https://colab.research.google.com/github/onolab-tmu/audio-processing-100-knocks/blob/master/lesson5.ipynb\" target=\"_parent\"><img src=\"https://colab.research.google.com/assets/colab-badge.svg\" alt=\"Open In Colab\"/></a>"
      ]
    },
    {
      "cell_type": "markdown",
      "metadata": {
        "id": "r0fZRe6kirFs",
        "colab_type": "text"
      },
      "source": [
        "# Lesson 5: ファイルとデータ\n",
        "\n",
        "今日はファイルでデータを扱う色々なやり方を学びます。\n",
        "ファイルでデータを埋め込む時はいっぱいあります。\n",
        "\n",
        "* 人からもらった資料\n",
        "* 個人で取ったノート、作成した書類\n",
        "* 実験の測定が自動的にファイルで記録される\n",
        "* 数値実験の結果がファイルで記録して、あとで分析する\n",
        "* ウエッブサービスなどのやり取りは大体テキストで行う\n",
        "* 実験や、プログラムのコンフィギュレーション\n",
        "\n",
        "テキストデータファイル形式は沢山ありますが、今日は最近良くよく使われる3つを学びましょう。\n",
        "\n",
        "1. CSV (Comma Separated File; カンマ区切りテキスト) 一番伝統的な形式です。CSVファイルの中は同じ形のデータは１行ずつ書いてます。第１行に列のラベルが載ってる場合もあります。もちろん、すべての行は同じ形ではないと困ります。\n",
        "  \n",
        "        # Name, City, Age\n",
        "        Takeshi,Tokyo,21\n",
        "        Mari,Hino,27\n",
        "        Hiroshi,Tokyo,31\n",
        "        Steve,New York,17\n",
        "        Kyoko,Fukuoka,42\n",
        "  \n",
        "2. JSON (JavaScript Object Notation) \n",
        "\n",
        "\n",
        "## CSV (Comma Separated File; カンマ区切りテキスト)"
      ]
    },
    {
      "cell_type": "code",
      "metadata": {
        "id": "p7UyVSBPhxBt",
        "colab_type": "code",
        "colab": {}
      },
      "source": [
        ""
      ],
      "execution_count": 0,
      "outputs": []
    },
    {
      "cell_type": "code",
      "metadata": {
        "id": "TuesWFocilVE",
        "colab_type": "code",
        "colab": {}
      },
      "source": [
        "import requests\n",
        "\n",
        "def textfile_from_url(url):\n",
        "  r = requests.get(url)\n",
        "  return r.text"
      ],
      "execution_count": 0,
      "outputs": []
    },
    {
      "cell_type": "code",
      "metadata": {
        "id": "wfew6vrMqxKP",
        "colab_type": "code",
        "colab": {}
      },
      "source": [
        "url = \"https://people.sc.fsu.edu/~jburkardt/data/csv/hw_25000.csv\"\n",
        "csv_string = textfile_from_url(url)"
      ],
      "execution_count": 0,
      "outputs": []
    },
    {
      "cell_type": "code",
      "metadata": {
        "id": "rlcPaB3_q0QJ",
        "colab_type": "code",
        "colab": {}
      },
      "source": [
        ""
      ],
      "execution_count": 0,
      "outputs": []
    },
    {
      "cell_type": "code",
      "metadata": {
        "id": "aQbXKqovq7xQ",
        "colab_type": "code",
        "colab": {}
      },
      "source": [
        ""
      ],
      "execution_count": 0,
      "outputs": []
    }
  ]
}
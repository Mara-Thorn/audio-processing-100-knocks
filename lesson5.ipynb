{
  "nbformat": 4,
  "nbformat_minor": 0,
  "metadata": {
    "colab": {
      "name": "lesson5.ipynb",
      "provenance": [],
      "collapsed_sections": [],
      "include_colab_link": true
    },
    "kernelspec": {
      "name": "python3",
      "display_name": "Python 3"
    }
  },
  "cells": [
    {
      "cell_type": "markdown",
      "metadata": {
        "id": "view-in-github",
        "colab_type": "text"
      },
      "source": [
        "<a href=\"https://colab.research.google.com/github/onolab-tmu/audio-processing-100-knocks/blob/master/lesson5.ipynb\" target=\"_parent\"><img src=\"https://colab.research.google.com/assets/colab-badge.svg\" alt=\"Open In Colab\"/></a>"
      ]
    },
    {
      "cell_type": "markdown",
      "metadata": {
        "id": "r0fZRe6kirFs",
        "colab_type": "text"
      },
      "source": [
        "# Lesson 5: ファイルとデータ\n",
        "\n",
        "今日はファイルでデータを扱う色々なやり方を学びます。\n",
        "ファイルでデータを埋め込む時はいっぱいあります。\n",
        "\n",
        "* 人からもらった資料\n",
        "* 個人で取ったノート、作成した書類\n",
        "* 実験の測定が自動的にファイルで記録される\n",
        "* 数値実験の結果がファイルで記録して、あとで分析する\n",
        "* ウエッブサービスなどのやり取りは大体テキストで行う\n",
        "* 実験や、プログラムのコンフィギュレーション\n",
        "\n",
        "テキストデータファイル形式は沢山ありますが、今日は最近良くよく使われる3つを学びましょう。"
      ]
    },
    {
      "cell_type": "markdown",
      "metadata": {
        "id": "Hs1cuW0l9Qmj",
        "colab_type": "text"
      },
      "source": [
        "## CSV (Comma Separated File; カンマ区切りテキスト)\n",
        "\n",
        "一番伝統的な形式です。CSVファイルの中は同じ形のデータは１行ずつ書いてます。第１行に列のラベルが載ってる場合もあります。もちろん、すべての行は同じ形ではないと困ります。\n",
        "  \n",
        "        # name, city, age\n",
        "        Takeshi,Tokyo,21\n",
        "        Mari,Hino,27\n",
        "        Hiroshi,Tokyo,31\n",
        "        Steve,New York,17\n",
        "        Kyoko,Fukuoka,42\n",
        "\n",
        "  CSVのメリットは\n",
        "\n",
        "  * 簡単に読み込める\n",
        "  * 処理も簡単\n",
        "  * 割とコンパクト\n",
        "\n",
        "  デメリットは\n",
        "\n",
        "  * 人間に読みづらい\n",
        "  * ストラクチャーは堅い、データはすべて同じじゃないといけない\n",
        "  * ヘッダーがないと列の意味は不明"
      ]
    },
    {
      "cell_type": "markdown",
      "metadata": {
        "id": "-pJN5KZc-MOs",
        "colab_type": "text"
      },
      "source": [
        "### CSV課題\n",
        "\n",
        "CSVのファイルを読み込むツールを書きましょう。\n",
        "\n",
        "まずはCSVファイルをネットから持ってきましょう。そのために、`requests`パッケージを使います。"
      ]
    },
    {
      "cell_type": "code",
      "metadata": {
        "id": "TuesWFocilVE",
        "colab_type": "code",
        "colab": {}
      },
      "source": [
        "import requests\n",
        "\n",
        "def textfile_from_url(url):\n",
        "  \"\"\"\n",
        "  This function retrieves a URL and returns\n",
        "  its content as a string.\n",
        "  \"\"\"\n",
        "  r = requests.get(url)\n",
        "  return r.text"
      ],
      "execution_count": 0,
      "outputs": []
    },
    {
      "cell_type": "markdown",
      "metadata": {
        "id": "wgA8kzldCJdi",
        "colab_type": "text"
      },
      "source": [
        "このウエッブサイトで色々例なCSVファイルがあって、その一つを持ってきましょ。"
      ]
    },
    {
      "cell_type": "code",
      "metadata": {
        "id": "wfew6vrMqxKP",
        "colab_type": "code",
        "outputId": "b81c0791-5909-4f8e-8636-05037a6e3242",
        "colab": {
          "base_uri": "https://localhost:8080/",
          "height": 185
        }
      },
      "source": [
        "url = \"https://people.sc.fsu.edu/~jburkardt/data/csv/hw_25000.csv\"\n",
        "csv_string = textfile_from_url(url)\n",
        "print(csv_string[:200])"
      ],
      "execution_count": 0,
      "outputs": [
        {
          "output_type": "stream",
          "text": [
            "\"Index\", \"Height(Inches)\", \"Weight(Pounds)\"\n",
            "1, 65.78331, 112.9925\n",
            "2, 71.51521, 136.4873\n",
            "3, 69.39874, 153.0269\n",
            "4, 68.2166, 142.3354\n",
            "5, 67.78781, 144.2971\n",
            "6, 68.69784, 123.3024\n",
            "7, 69.80204, 141.4947\n",
            "8, \n"
          ],
          "name": "stdout"
        }
      ]
    },
    {
      "cell_type": "markdown",
      "metadata": {
        "id": "m6yh4syoClQG",
        "colab_type": "text"
      },
      "source": [
        "このファイルは２万５千人の人の身長と体重載ってる。\n",
        "\n",
        "この問題の目的は、身長と体重のヒストグラムを描くこと。\n",
        "\n",
        "データ処理のため、`split`関数が役にたつ\n"
      ]
    },
    {
      "cell_type": "code",
      "metadata": {
        "id": "c-hhkNqGEhLt",
        "colab_type": "code",
        "outputId": "9dd9df09-fae1-4a32-d9fa-f2bceb88a0fe",
        "colab": {
          "base_uri": "https://localhost:8080/",
          "height": 36
        }
      },
      "source": [
        "x = \"this is an example\"\n",
        "y = x.split(\"i\")\n",
        "print(y)"
      ],
      "execution_count": 0,
      "outputs": [
        {
          "output_type": "stream",
          "text": [
            "['th', 's ', 's an example']\n"
          ],
          "name": "stdout"
        }
      ]
    },
    {
      "cell_type": "markdown",
      "metadata": {
        "id": "RSQV0hkZEoIb",
        "colab_type": "text"
      },
      "source": [
        "では、最初は`split`を使って、2つのリストすべての身長と体重を集めよう。\n"
      ]
    },
    {
      "cell_type": "code",
      "metadata": {
        "id": "rlcPaB3_q0QJ",
        "colab_type": "code",
        "colab": {}
      },
      "source": [
        "heights = []\n",
        "weights = []\n",
        "\n",
        "# process \"csv_string\" to fill the two lists\n"
      ],
      "execution_count": 0,
      "outputs": []
    },
    {
      "cell_type": "markdown",
      "metadata": {
        "id": "s5Z9WzIADajU",
        "colab_type": "text"
      },
      "source": [
        "最後は`matplotlib`で図を描く"
      ]
    },
    {
      "cell_type": "code",
      "metadata": {
        "id": "DNvTYvwtDgK7",
        "colab_type": "code",
        "colab": {}
      },
      "source": [
        "import matplotlib.pyplot as plt"
      ],
      "execution_count": 0,
      "outputs": []
    },
    {
      "cell_type": "code",
      "metadata": {
        "id": "lCWjDeGHDnkG",
        "colab_type": "code",
        "colab": {}
      },
      "source": [
        "# First the heights\n",
        "plt.hist(heights)\n",
        "plt.xlabel(\"Height [Inches]\")"
      ],
      "execution_count": 0,
      "outputs": []
    },
    {
      "cell_type": "code",
      "metadata": {
        "id": "4T4ddVXWDwAI",
        "colab_type": "code",
        "colab": {}
      },
      "source": [
        "# Then the weights\n",
        "plt.hist(weights)\n",
        "plt.title(\"Weight [Pounds]\")"
      ],
      "execution_count": 0,
      "outputs": []
    },
    {
      "cell_type": "markdown",
      "metadata": {
        "id": "f4pEEWvT9Yub",
        "colab_type": "text"
      },
      "source": [
        "## JSON (JavaScript Object Notation)\n",
        "\n",
        "割と最近よく使われる形式である。ほとんどのプログラミング言語でJSONを読み込むライブラリーは存在する。そして、多くのウエッブサービスのAPIはJSONで返事している。JSON形式はPythonの`list`と`dict`によく似てる。\n",
        "\n",
        "    [\n",
        "      {\n",
        "        \"name\": \"Takeshi\",\n",
        "        \"city\": \"Tokyo\",\n",
        "        \"age\": 21\n",
        "      },\n",
        "      {\n",
        "        \"name\": \"Mari\",\n",
        "        \"city\": \"Hino\",\n",
        "        \"age\": 27\n",
        "      },\n",
        "      {\n",
        "        \"name\": \"Hiroshi\",\n",
        "        \"city\": \"Tokyo\",\n",
        "        \"age\": 31\n",
        "      },\n",
        "      {\n",
        "        \"name\": \"Steve\",\n",
        "        \"city\": \"New York\",\n",
        "        \"age\": 17\n",
        "      },\n",
        "      {\n",
        "        \"name\": \"Kyoko\",\n",
        "        \"city\": \"Fukuoka\",\n",
        "        \"age\": 42\n",
        "      }\n",
        "    ]\n",
        "\n",
        "JSONのメリット\n",
        "* 人間が読んでも分かりやすい\n",
        "* 同じファイルで、ストラクチャーが異なるデータでもオッケー\n",
        "* Pythonに簡単に読み込める（他の言語も）\n",
        "* プログラムのコンフィギュレーションに使いやすい\n",
        "\n",
        "デメリットは\n",
        "* `{`,`}`,`\"`,などは多い、手書きは面倒\n",
        "* コメントが書けない\n",
        "* 少しだけファイルサイズが多くなる"
      ]
    },
    {
      "cell_type": "markdown",
      "metadata": {
        "id": "xCwy39RHE1mq",
        "colab_type": "text"
      },
      "source": [
        "Pythonでは`list`と`dict`の変数はそのままJSONになれる。"
      ]
    },
    {
      "cell_type": "code",
      "metadata": {
        "id": "aQbXKqovq7xQ",
        "colab_type": "code",
        "outputId": "5bf6dbb2-e4ff-4216-be5e-f7e635cebe4a",
        "colab": {
          "base_uri": "https://localhost:8080/",
          "height": 36
        }
      },
      "source": [
        "import json\n",
        "\n",
        "people = [\n",
        "  {\n",
        "    \"name\": \"Takeshi\",\n",
        "    \"city\": \"Tokyo\",\n",
        "    \"age\": 21\n",
        "  },\n",
        "  {\n",
        "    \"name\": \"Mari\",\n",
        "    \"city\": \"Hino\",\n",
        "    \"age\": 27\n",
        "  },\n",
        "  {\n",
        "    \"name\": \"Hiroshi\",\n",
        "    \"city\": \"Tokyo\",\n",
        "    \"age\": 31\n",
        "  },\n",
        "  {\n",
        "    \"name\": \"Steve\",\n",
        "    \"city\": \"New York\",\n",
        "    \"age\": 17\n",
        "  },\n",
        "  {\n",
        "    \"name\": \"Kyoko\",\n",
        "    \"city\": \"Fukuoka\",\n",
        "    \"age\": 42\n",
        "  }\n",
        "]\n",
        "\n",
        "print(people[0][\"name\"])"
      ],
      "execution_count": 0,
      "outputs": [
        {
          "output_type": "stream",
          "text": [
            "Takeshi\n"
          ],
          "name": "stdout"
        }
      ]
    },
    {
      "cell_type": "markdown",
      "metadata": {
        "id": "cjUidj4eF-Bs",
        "colab_type": "text"
      },
      "source": [
        "`people`変数をJSONテキストにするには簡単。"
      ]
    },
    {
      "cell_type": "code",
      "metadata": {
        "id": "COs1G26AFhAu",
        "colab_type": "code",
        "outputId": "0673ab6c-ffe0-465e-fa90-11a9e5333199",
        "colab": {
          "base_uri": "https://localhost:8080/",
          "height": 56
        }
      },
      "source": [
        "import json\n",
        "people_str = json.dumps(people)\n",
        "print(people_str)"
      ],
      "execution_count": 0,
      "outputs": [
        {
          "output_type": "stream",
          "text": [
            "[{\"name\": \"Takeshi\", \"city\": \"Tokyo\", \"age\": 21}, {\"name\": \"Mari\", \"city\": \"Hino\", \"age\": 27}, {\"name\": \"Hiroshi\", \"city\": \"Tokyo\", \"age\": 31}, {\"name\": \"Steve\", \"city\": \"New York\", \"age\": 17}, {\"name\": \"Kyoko\", \"city\": \"Fukuoka\", \"age\": 42}]\n"
          ],
          "name": "stdout"
        }
      ]
    },
    {
      "cell_type": "markdown",
      "metadata": {
        "id": "ejgj7DNIGNz3",
        "colab_type": "text"
      },
      "source": [
        "見えるようにフォーマットは１行でも書ける。\n",
        "\n",
        "次は逆にもう字列から、パイソンの変数にもできます。"
      ]
    },
    {
      "cell_type": "code",
      "metadata": {
        "id": "0XMYx606GMSt",
        "colab_type": "code",
        "outputId": "6b4db0d7-4827-4ea1-8fd3-a4022f9fe2d4",
        "colab": {
          "base_uri": "https://localhost:8080/",
          "height": 54
        }
      },
      "source": [
        "s = '{\"numbers\": [1, 2, 3, 4], \"floats\": [1.2, -3.5], \"sub_dict\": { \"pet\": \"dog\", \"hobby\": \"fishing\"}}'\n",
        "example = json.loads(s)\n",
        "print(example[\"numbers\"])\n",
        "print(example[\"sub_dict\"][\"pet\"])"
      ],
      "execution_count": 0,
      "outputs": [
        {
          "output_type": "stream",
          "text": [
            "[1, 2, 3, 4]\n",
            "dog\n"
          ],
          "name": "stdout"
        }
      ]
    },
    {
      "cell_type": "markdown",
      "metadata": {
        "id": "XY93EVN7G5Zk",
        "colab_type": "text"
      },
      "source": [
        "### JSON課題\n",
        "\n",
        "[スターウォーズAPI](https://swapi.co/)から、女性と男性キャラクターを数えましょう。"
      ]
    },
    {
      "cell_type": "code",
      "metadata": {
        "id": "yb-ZWC6YHaVY",
        "colab_type": "code",
        "colab": {}
      },
      "source": [
        "import json\n",
        "\n",
        "# APIから、データを文字列としてダウンロードする\n",
        "data_str = textfile_from_url(\"https://swapi.co/api/people\")\n",
        "\n",
        "# 文字列のJSONパースでパイソンデータストラクチャーに変換する\n",
        "data = json.loads(data_str)"
      ],
      "execution_count": 0,
      "outputs": []
    },
    {
      "cell_type": "markdown",
      "metadata": {
        "id": "Fg9xhYLAvWIy",
        "colab_type": "text"
      },
      "source": [
        "どんなデータが入ってるかわからないので、内容とタイプを確認しましょう。"
      ]
    },
    {
      "cell_type": "code",
      "metadata": {
        "id": "O5SOpL2uurr5",
        "colab_type": "code",
        "colab": {
          "base_uri": "https://localhost:8080/",
          "height": 54
        },
        "outputId": "d9f0023e-0f35-4a74-8a86-d0571a191cef"
      },
      "source": [
        "print(\"Data type:\", type(data))\n",
        "print(\"List of entries:\", data.keys())"
      ],
      "execution_count": 29,
      "outputs": [
        {
          "output_type": "stream",
          "text": [
            "Data type: <class 'dict'>\n",
            "List of entries: dict_keys(['count', 'next', 'previous', 'results'])\n"
          ],
          "name": "stdout"
        }
      ]
    },
    {
      "cell_type": "markdown",
      "metadata": {
        "colab_type": "text",
        "id": "CcOxCvTB2TqR"
      },
      "source": [
        "データタイプは辞書です。\n",
        "\n",
        "スターウォーズのキャラクターが多いので、全て一括でダウンルオーど出来なくて、ページで区切られてます。\n",
        "* `count`: このページのキャラクター数\n",
        "* `next`: 次のページへのURL\n",
        "* `previous`: 前のページへのURL\n",
        "* `results`: キャラクターのリスト\n",
        "\n",
        "一つのキャラクターのエントリーをみてみましょう。\n"
      ]
    },
    {
      "cell_type": "code",
      "metadata": {
        "id": "zQmcyF17vo4K",
        "colab_type": "code",
        "colab": {
          "base_uri": "https://localhost:8080/",
          "height": 56
        },
        "outputId": "6f2d3612-a581-4a3f-f8ca-be64d7d6019a"
      },
      "source": [
        "print(data['results'][0])"
      ],
      "execution_count": 30,
      "outputs": [
        {
          "output_type": "stream",
          "text": [
            "{'name': 'Luke Skywalker', 'height': '172', 'mass': '77', 'hair_color': 'blond', 'skin_color': 'fair', 'eye_color': 'blue', 'birth_year': '19BBY', 'gender': 'male', 'homeworld': 'https://swapi.co/api/planets/1/', 'films': ['https://swapi.co/api/films/2/', 'https://swapi.co/api/films/6/', 'https://swapi.co/api/films/3/', 'https://swapi.co/api/films/1/', 'https://swapi.co/api/films/7/'], 'species': ['https://swapi.co/api/species/1/'], 'vehicles': ['https://swapi.co/api/vehicles/14/', 'https://swapi.co/api/vehicles/30/'], 'starships': ['https://swapi.co/api/starships/12/', 'https://swapi.co/api/starships/22/'], 'created': '2014-12-09T13:50:51.644000Z', 'edited': '2014-12-20T21:17:56.891000Z', 'url': 'https://swapi.co/api/people/1/'}\n"
          ],
          "name": "stdout"
        }
      ]
    },
    {
      "cell_type": "markdown",
      "metadata": {
        "id": "cLglFURx2jtR",
        "colab_type": "text"
      },
      "source": [
        "キャラクターの特徴は辞書の形でひとつひとつ入ってます。今回性別で数えたいので、`gender`を見るべきです。\n",
        "\n",
        "そうすると、下記のアルゴリズムで、すべてのキャラクターの性別を確認できます。\n",
        "\n",
        "1. スタートURL`https://swapi.co/api/people`からデータをダウンロードする\n",
        "2. こんページのキャラクターリスト(`results`)を`for`文で回して、女性・男性・その他を数える\n",
        "3. `next`のURLで繰り返す、`next`の内容は`None`になった場合、終わる\n",
        "\n",
        "このアルゴリズムをパイソンのコードで書きましょう。\n",
        "\n",
        "* データをダウンロードするには`textfile_from_url`を使う\n",
        "* 文字列 -> JSON は`json.loads`"
      ]
    },
    {
      "cell_type": "code",
      "metadata": {
        "id": "1oHon4qZy50u",
        "colab_type": "code",
        "colab": {}
      },
      "source": [
        "# コードをここに書いてください\n"
      ],
      "execution_count": 0,
      "outputs": []
    }
  ]
}
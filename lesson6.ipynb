{
  "nbformat": 4,
  "nbformat_minor": 0,
  "metadata": {
    "colab": {
      "name": "lesson6.ipynb",
      "provenance": [],
      "collapsed_sections": [],
      "include_colab_link": true
    },
    "kernelspec": {
      "name": "python3",
      "display_name": "Python 3"
    }
  },
  "cells": [
    {
      "cell_type": "markdown",
      "metadata": {
        "id": "view-in-github",
        "colab_type": "text"
      },
      "source": [
        "<a href=\"https://colab.research.google.com/github/onolab-tmu/audio-processing-100-knocks/blob/master/lesson6.ipynb\" target=\"_parent\"><img src=\"https://colab.research.google.com/assets/colab-badge.svg\" alt=\"Open In Colab\"/></a>"
      ]
    },
    {
      "cell_type": "markdown",
      "metadata": {
        "id": "oakad_2x5FF2",
        "colab_type": "text"
      },
      "source": [
        "# Lesson 6: スコープ、クラスとオブジェクト指向\n",
        "\n",
        "## スコープ\n",
        "\n",
        "プログラムの中の変数の有効範囲は、スコープと読んでます。\n",
        "\n",
        "パイソンでは、スコープは二つあります：\n",
        "* **ローカルスコープ** 関数の中\n",
        "* **グローバルスコープ** プログラム全体\n",
        "\n",
        "### 最初はローカルスコープの例"
      ]
    },
    {
      "cell_type": "code",
      "metadata": {
        "id": "SGkDLcDE5V9I",
        "colab_type": "code",
        "colab": {}
      },
      "source": [
        "def my_func():\n",
        "  # `a` is a local variable of function `my_func`\n",
        "  a = 10\n",
        "  print(\"a value is\", a)"
      ],
      "execution_count": 0,
      "outputs": []
    },
    {
      "cell_type": "markdown",
      "metadata": {
        "id": "7Qmku-5G18sK",
        "colab_type": "text"
      },
      "source": [
        "`my_func`を呼ぶと、想像通りに行きます。"
      ]
    },
    {
      "cell_type": "code",
      "metadata": {
        "id": "q2SYVx4swuB7",
        "colab_type": "code",
        "outputId": "b700f883-e8df-48d5-b9e9-0b22292f5028",
        "colab": {
          "base_uri": "https://localhost:8080/",
          "height": 36
        }
      },
      "source": [
        "my_func()"
      ],
      "execution_count": 2,
      "outputs": [
        {
          "output_type": "stream",
          "text": [
            "a value is 10\n"
          ],
          "name": "stdout"
        }
      ]
    },
    {
      "cell_type": "markdown",
      "metadata": {
        "id": "ZHv4Dfw62GKi",
        "colab_type": "text"
      },
      "source": [
        "けれども、`my_func`の外から、`a`にアクセスしようとするとエラー発生です。"
      ]
    },
    {
      "cell_type": "code",
      "metadata": {
        "id": "3GHwJ4_4wvhg",
        "colab_type": "code",
        "outputId": "216ea4d1-2033-47a9-982e-de8cfec6d3c5",
        "colab": {
          "base_uri": "https://localhost:8080/",
          "height": 174
        }
      },
      "source": [
        "print(a)"
      ],
      "execution_count": 3,
      "outputs": [
        {
          "output_type": "error",
          "ename": "NameError",
          "evalue": "ignored",
          "traceback": [
            "\u001b[0;31m---------------------------------------------------------------------------\u001b[0m",
            "\u001b[0;31mNameError\u001b[0m                                 Traceback (most recent call last)",
            "\u001b[0;32m<ipython-input-3-bca0e2660b9f>\u001b[0m in \u001b[0;36m<module>\u001b[0;34m()\u001b[0m\n\u001b[0;32m----> 1\u001b[0;31m \u001b[0mprint\u001b[0m\u001b[0;34m(\u001b[0m\u001b[0ma\u001b[0m\u001b[0;34m)\u001b[0m\u001b[0;34m\u001b[0m\u001b[0;34m\u001b[0m\u001b[0m\n\u001b[0m",
            "\u001b[0;31mNameError\u001b[0m: name 'a' is not defined"
          ]
        }
      ]
    },
    {
      "cell_type": "markdown",
      "metadata": {
        "id": "YLT82p0b9B0_",
        "colab_type": "text"
      },
      "source": [
        "### グローバルスコープのれい"
      ]
    },
    {
      "cell_type": "code",
      "metadata": {
        "id": "m_Qf6eQ02meQ",
        "colab_type": "code",
        "colab": {}
      },
      "source": [
        "b = 7\n",
        "\n",
        "def my_func2():\n",
        "  print(\"b value is\", b)"
      ],
      "execution_count": 0,
      "outputs": []
    },
    {
      "cell_type": "markdown",
      "metadata": {
        "id": "rbk5wbrD2siO",
        "colab_type": "text"
      },
      "source": [
        "`my_func2`を走らせると、また思う通りに行きます。"
      ]
    },
    {
      "cell_type": "code",
      "metadata": {
        "id": "SORpQnG03M4l",
        "colab_type": "code",
        "outputId": "5f07f69a-b2fd-43a2-a2e9-c9e1aefd99a0",
        "colab": {
          "base_uri": "https://localhost:8080/",
          "height": 36
        }
      },
      "source": [
        "my_func2()"
      ],
      "execution_count": 5,
      "outputs": [
        {
          "output_type": "stream",
          "text": [
            "b value is 7\n"
          ],
          "name": "stdout"
        }
      ]
    },
    {
      "cell_type": "markdown",
      "metadata": {
        "id": "xHOAQTiJ3Qq-",
        "colab_type": "text"
      },
      "source": [
        "そして、今回は"
      ]
    },
    {
      "cell_type": "code",
      "metadata": {
        "id": "yUIuzr7S3Vn6",
        "colab_type": "code",
        "outputId": "00aa510f-5b8c-4054-9d8a-a2b3ce946e33",
        "colab": {
          "base_uri": "https://localhost:8080/",
          "height": 36
        }
      },
      "source": [
        "print(b)"
      ],
      "execution_count": 6,
      "outputs": [
        {
          "output_type": "stream",
          "text": [
            "7\n"
          ],
          "name": "stdout"
        }
      ]
    },
    {
      "cell_type": "markdown",
      "metadata": {
        "id": "dmPR7aaQ3Wdi",
        "colab_type": "text"
      },
      "source": [
        "エラー発生しません。\n",
        "\n",
        "という事で、\n",
        "* ローカルスコープの変数はグローバルスコーデアクセス**出来ません**.\n",
        "* グローバルスコープの変数はローカルスコープでアクセス**出来ます**.\n",
        "\n",
        "なう、グローバルで`b`を編集するとどうなるのでしょうか？\n",
        "\n",
        "\n"
      ]
    },
    {
      "cell_type": "code",
      "metadata": {
        "id": "AZbVzWlm35SQ",
        "colab_type": "code",
        "outputId": "6773329c-a9b8-43cb-b52d-9c4906dd56ed",
        "colab": {
          "base_uri": "https://localhost:8080/",
          "height": 36
        }
      },
      "source": [
        "b = 36\n",
        "my_func2()"
      ],
      "execution_count": 7,
      "outputs": [
        {
          "output_type": "stream",
          "text": [
            "b value is 36\n"
          ],
          "name": "stdout"
        }
      ]
    },
    {
      "cell_type": "markdown",
      "metadata": {
        "id": "sPi30mXX4nML",
        "colab_type": "text"
      },
      "source": [
        "`my_func2`の中は本当にグローバルスコープの`b`を使ってるので、`b`を編集すると、関数の結果も変わります！"
      ]
    },
    {
      "cell_type": "markdown",
      "metadata": {
        "id": "vkC8-gsp35vq",
        "colab_type": "text"
      },
      "source": [
        "### 変数名が被った時"
      ]
    },
    {
      "cell_type": "code",
      "metadata": {
        "id": "U-tIFId237aW",
        "colab_type": "code",
        "colab": {}
      },
      "source": [
        "c = 21\n",
        "\n",
        "def my_func3():\n",
        "  c = \"a string\"\n",
        "  print(\"c value is\", c)"
      ],
      "execution_count": 0,
      "outputs": []
    },
    {
      "cell_type": "code",
      "metadata": {
        "id": "XjsFocRh5CgR",
        "colab_type": "code",
        "outputId": "748f8903-43a7-4965-b48e-1d6bcec32dce",
        "colab": {
          "base_uri": "https://localhost:8080/",
          "height": 36
        }
      },
      "source": [
        "my_func3()"
      ],
      "execution_count": 9,
      "outputs": [
        {
          "output_type": "stream",
          "text": [
            "c value is a string\n"
          ],
          "name": "stdout"
        }
      ]
    },
    {
      "cell_type": "code",
      "metadata": {
        "id": "eFxjzm1S5WgX",
        "colab_type": "code",
        "outputId": "79a8b62e-054c-4316-ce30-79447a71953b",
        "colab": {
          "base_uri": "https://localhost:8080/",
          "height": 36
        }
      },
      "source": [
        "print(c)"
      ],
      "execution_count": 10,
      "outputs": [
        {
          "output_type": "stream",
          "text": [
            "21\n"
          ],
          "name": "stdout"
        }
      ]
    },
    {
      "cell_type": "markdown",
      "metadata": {
        "id": "FdA5LkYz5E5k",
        "colab_type": "text"
      },
      "source": [
        "グローバルも、ローカルスコープも、どちらも同じ変数名が存在しますと、\n",
        "1. ローカルスコープで作成した変数は**別の変数**になっています。例のコードで、関数の中`c = \"a string\"`を書いた時、グローバルスコープの`c`の中身は変わっていませんでした。\n",
        "2. ローカルスコープの変数があると、グローバルスコープの同じ名前の変数は**アクセス出来なくなります**。(shadowing)\n",
        "\n",
        "もうし、関数の中にグローバルスコープの変数を変えたい場合は、`global`キーワードを使えます。"
      ]
    },
    {
      "cell_type": "code",
      "metadata": {
        "id": "iM_zdARE590T",
        "colab_type": "code",
        "colab": {}
      },
      "source": [
        "d = 73\n",
        "\n",
        "def my_func4():\n",
        "  global d\n",
        "  print(\"my_func4: d value was\", d)\n",
        "  d = \"I am a string now\"\n",
        "  print(\"my_func4: d value is\", d)"
      ],
      "execution_count": 0,
      "outputs": []
    },
    {
      "cell_type": "code",
      "metadata": {
        "id": "jIoRdUxq6gQo",
        "colab_type": "code",
        "outputId": "7f1e9520-1876-4d2b-eb0b-957d67219b2e",
        "colab": {
          "base_uri": "https://localhost:8080/",
          "height": 54
        }
      },
      "source": [
        "my_func4()"
      ],
      "execution_count": 12,
      "outputs": [
        {
          "output_type": "stream",
          "text": [
            "my_func4: d value was 73\n",
            "my_func4: d value is I am a string now\n"
          ],
          "name": "stdout"
        }
      ]
    },
    {
      "cell_type": "code",
      "metadata": {
        "id": "WTqGAZ6L6hg8",
        "colab_type": "code",
        "outputId": "94fe5cc0-876d-49cf-d0b5-80d76059c81f",
        "colab": {
          "base_uri": "https://localhost:8080/",
          "height": 36
        }
      },
      "source": [
        "print(d)"
      ],
      "execution_count": 13,
      "outputs": [
        {
          "output_type": "stream",
          "text": [
            "I am a string now\n"
          ],
          "name": "stdout"
        }
      ]
    },
    {
      "cell_type": "markdown",
      "metadata": {
        "id": "Hbp5Zw-Q6icL",
        "colab_type": "text"
      },
      "source": [
        "## クラスとオブジェクト指向\n",
        "\n",
        "オブジェクト指向は複雑データタイプと、このタイプに対するオペレーションのプログラムの書き方です。\n",
        "\n",
        "例えば、簡単な物理シミュレーションを考えましょう。ボールがあって、投げた時、ニュートン力学に関して、どこまで行くか、プログラムで書きたい。\n",
        "\n",
        "ボールの必要なプロパーティは\n",
        "* 半径\n",
        "* 位置\n",
        "\n",
        "投げた時は速度のベクトルと飛ぶ時間で、新しい位置を計算するのが目的です。\n",
        "\n",
        "とりあえず、オブジェクトを使わず書いて見ましょう。\n"
      ]
    },
    {
      "cell_type": "code",
      "metadata": {
        "id": "UGBg_hPi7168",
        "colab_type": "code",
        "colab": {
          "base_uri": "https://localhost:8080/",
          "height": 36
        },
        "outputId": "4fc03368-bdd3-4f6f-ec44-2394fa8b055f"
      },
      "source": [
        "import math\n",
        "\n",
        "my_ball_position = 10.\n",
        "my_ball_radius = 0.5\n",
        "\n",
        "def compute_fall_time(position, radius):\n",
        "  \"\"\"\n",
        "  compute the ball new location after fly time, when thrown at speed\n",
        "  \"\"\"\n",
        "  a_earth = 9.81\n",
        "\n",
        "  fall_time = math.sqrt(2 * (position - radius) / a_earth)\n",
        "\n",
        "  return fall_time\n",
        "\n",
        "t_fall = compute_fall_time(my_ball_position, my_ball_radius)\n",
        "print(f\"The ball falls for {t_fall} seconds\")"
      ],
      "execution_count": 14,
      "outputs": [
        {
          "output_type": "stream",
          "text": [
            "The ball falls for 1.3916893275819882 seconds\n"
          ],
          "name": "stdout"
        }
      ]
    },
    {
      "cell_type": "markdown",
      "metadata": {
        "id": "tBfE5NDvDVTJ",
        "colab_type": "text"
      },
      "source": [
        "こう書くと、色々不便なところはあります。\n",
        "* 位置と半径は別の変数が入ります。\n",
        "* ボールがいっぱいあると、ちょっと変数の扱いが大変になります。\n",
        "* `compute_fall_time`関数は`position`と`radius`と対応してます。\n",
        "* `a_earth`はどう扱えばいいのか？\n",
        "\n",
        "オブジェクト指向使えば、もっとまとまった書き方があります。\n",
        "その時、新しいタイプを作成します。\n"
      ]
    },
    {
      "cell_type": "code",
      "metadata": {
        "id": "-rklfqLMC5-U",
        "colab_type": "code",
        "colab": {
          "base_uri": "https://localhost:8080/",
          "height": 36
        },
        "outputId": "1a88a9f4-71ce-4b9f-803f-d7c203c6ce16"
      },
      "source": [
        "class Ball:\n",
        "\n",
        "  def __init__(self, pos, rad):\n",
        "    self.position = pos\n",
        "    self.radius = rad\n",
        "\n",
        "  def fall_time(self):\n",
        "    a_earth = 9.81\n",
        "    fall_time = math.sqrt(2 * (self.position - self.radius) / a_earth)\n",
        "    return fall_time\n",
        "\n",
        "my_ball = Ball(10, 0.5)\n",
        "t_fall = my_ball.fall_time()\n",
        "print(f\"The ball falls for {t_fall} seconds\")"
      ],
      "execution_count": 15,
      "outputs": [
        {
          "output_type": "stream",
          "text": [
            "The ball falls for 1.3916893275819882 seconds\n"
          ],
          "name": "stdout"
        }
      ]
    },
    {
      "cell_type": "code",
      "metadata": {
        "id": "_5a42crWQphn",
        "colab_type": "code",
        "colab": {}
      },
      "source": [
        ""
      ],
      "execution_count": 0,
      "outputs": []
    }
  ]
}
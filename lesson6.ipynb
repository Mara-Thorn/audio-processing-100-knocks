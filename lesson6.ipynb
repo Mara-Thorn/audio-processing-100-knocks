{
  "nbformat": 4,
  "nbformat_minor": 0,
  "metadata": {
    "colab": {
      "name": "lesson6.ipynb",
      "provenance": [],
      "include_colab_link": true
    },
    "kernelspec": {
      "name": "python3",
      "display_name": "Python 3"
    }
  },
  "cells": [
    {
      "cell_type": "markdown",
      "metadata": {
        "id": "view-in-github",
        "colab_type": "text"
      },
      "source": [
        "<a href=\"https://colab.research.google.com/github/onolab-tmu/audio-processing-100-knocks/blob/master/lesson6.ipynb\" target=\"_parent\"><img src=\"https://colab.research.google.com/assets/colab-badge.svg\" alt=\"Open In Colab\"/></a>"
      ]
    },
    {
      "cell_type": "markdown",
      "metadata": {
        "id": "oakad_2x5FF2",
        "colab_type": "text"
      },
      "source": [
        "# Lesson 6: スコープ、クラスとオブジェクト指向\n",
        "\n",
        "## スコープ\n",
        "\n",
        "プログラムの中の変数の有効範囲は、スコープと読んでます。\n",
        "\n",
        "パイソンでは、スコープは二つあります：\n",
        "* **ローカルスコープ** 関数の中\n",
        "* **グローバルスコープ** プログラム全体\n",
        "\n",
        "### 最初はローカルスコープの例"
      ]
    },
    {
      "cell_type": "code",
      "metadata": {
        "id": "SGkDLcDE5V9I",
        "colab_type": "code",
        "colab": {}
      },
      "source": [
        "def my_func():\n",
        "  # `a` is a local variable of function `my_func`\n",
        "  a = 10\n",
        "  print(\"a value is\", a)"
      ],
      "execution_count": 0,
      "outputs": []
    },
    {
      "cell_type": "markdown",
      "metadata": {
        "id": "7Qmku-5G18sK",
        "colab_type": "text"
      },
      "source": [
        "`my_func`を呼ぶと、想像通りに行きます。"
      ]
    },
    {
      "cell_type": "code",
      "metadata": {
        "id": "q2SYVx4swuB7",
        "colab_type": "code",
        "colab": {
          "base_uri": "https://localhost:8080/",
          "height": 36
        },
        "outputId": "07aa75ba-0715-4906-eb53-886a75bd18d3"
      },
      "source": [
        "my_func()"
      ],
      "execution_count": 15,
      "outputs": [
        {
          "output_type": "stream",
          "text": [
            "a value is 10\n"
          ],
          "name": "stdout"
        }
      ]
    },
    {
      "cell_type": "markdown",
      "metadata": {
        "id": "ZHv4Dfw62GKi",
        "colab_type": "text"
      },
      "source": [
        "けれども、`my_func`の外から、`a`にアクセスしようとするとエラー発生です。"
      ]
    },
    {
      "cell_type": "code",
      "metadata": {
        "id": "3GHwJ4_4wvhg",
        "colab_type": "code",
        "colab": {
          "base_uri": "https://localhost:8080/",
          "height": 175
        },
        "outputId": "97067be6-0834-429b-ed26-3a374d37d254"
      },
      "source": [
        "print(a)"
      ],
      "execution_count": 16,
      "outputs": [
        {
          "output_type": "error",
          "ename": "NameError",
          "evalue": "ignored",
          "traceback": [
            "\u001b[0;31m---------------------------------------------------------------------------\u001b[0m",
            "\u001b[0;31mNameError\u001b[0m                                 Traceback (most recent call last)",
            "\u001b[0;32m<ipython-input-16-bca0e2660b9f>\u001b[0m in \u001b[0;36m<module>\u001b[0;34m()\u001b[0m\n\u001b[0;32m----> 1\u001b[0;31m \u001b[0mprint\u001b[0m\u001b[0;34m(\u001b[0m\u001b[0ma\u001b[0m\u001b[0;34m)\u001b[0m\u001b[0;34m\u001b[0m\u001b[0;34m\u001b[0m\u001b[0m\n\u001b[0m",
            "\u001b[0;31mNameError\u001b[0m: name 'a' is not defined"
          ]
        }
      ]
    },
    {
      "cell_type": "markdown",
      "metadata": {
        "id": "YLT82p0b9B0_",
        "colab_type": "text"
      },
      "source": [
        "### グローバルスコープのれい"
      ]
    },
    {
      "cell_type": "code",
      "metadata": {
        "id": "m_Qf6eQ02meQ",
        "colab_type": "code",
        "colab": {}
      },
      "source": [
        "b = 7\n",
        "\n",
        "def my_func2():\n",
        "  print(\"b value is\", b)"
      ],
      "execution_count": 0,
      "outputs": []
    },
    {
      "cell_type": "markdown",
      "metadata": {
        "id": "rbk5wbrD2siO",
        "colab_type": "text"
      },
      "source": [
        "`my_func2`を走らせると、また思う通りに行きます。"
      ]
    },
    {
      "cell_type": "code",
      "metadata": {
        "id": "SORpQnG03M4l",
        "colab_type": "code",
        "colab": {
          "base_uri": "https://localhost:8080/",
          "height": 36
        },
        "outputId": "30ad5295-2b05-47bb-87f5-537cb05a92ca"
      },
      "source": [
        "my_func2()"
      ],
      "execution_count": 18,
      "outputs": [
        {
          "output_type": "stream",
          "text": [
            "b value is 7\n"
          ],
          "name": "stdout"
        }
      ]
    },
    {
      "cell_type": "markdown",
      "metadata": {
        "id": "xHOAQTiJ3Qq-",
        "colab_type": "text"
      },
      "source": [
        "そして、今回は"
      ]
    },
    {
      "cell_type": "code",
      "metadata": {
        "id": "yUIuzr7S3Vn6",
        "colab_type": "code",
        "colab": {
          "base_uri": "https://localhost:8080/",
          "height": 36
        },
        "outputId": "ee3e4f21-aafa-4270-9712-bf28469b13e9"
      },
      "source": [
        "print(b)"
      ],
      "execution_count": 19,
      "outputs": [
        {
          "output_type": "stream",
          "text": [
            "7\n"
          ],
          "name": "stdout"
        }
      ]
    },
    {
      "cell_type": "markdown",
      "metadata": {
        "id": "dmPR7aaQ3Wdi",
        "colab_type": "text"
      },
      "source": [
        "エラー発生しません。\n",
        "\n",
        "という事で、\n",
        "* ローカルスコープの変数はグローバルスコーデアクセス**出来ません**.\n",
        "* グローバルスコープの変数はローカルスコープでアクセス**出来ます**.\n",
        "\n",
        "なう、グローバルで`b`を編集するとどうなるのでしょうか？\n",
        "\n",
        "\n"
      ]
    },
    {
      "cell_type": "code",
      "metadata": {
        "id": "AZbVzWlm35SQ",
        "colab_type": "code",
        "colab": {
          "base_uri": "https://localhost:8080/",
          "height": 36
        },
        "outputId": "96f70100-bada-4f8c-fa93-580b143a4cd8"
      },
      "source": [
        "b = 36\n",
        "my_func2()"
      ],
      "execution_count": 21,
      "outputs": [
        {
          "output_type": "stream",
          "text": [
            "b value is 36\n"
          ],
          "name": "stdout"
        }
      ]
    },
    {
      "cell_type": "markdown",
      "metadata": {
        "id": "sPi30mXX4nML",
        "colab_type": "text"
      },
      "source": [
        "`my_func2`の中は本当にグローバルスコープの`b`を使ってるので、`b`を編集すると、関数の結果も変わります！"
      ]
    },
    {
      "cell_type": "markdown",
      "metadata": {
        "id": "vkC8-gsp35vq",
        "colab_type": "text"
      },
      "source": [
        "### 変数名が被った時"
      ]
    },
    {
      "cell_type": "code",
      "metadata": {
        "id": "U-tIFId237aW",
        "colab_type": "code",
        "colab": {}
      },
      "source": [
        "c = 21\n",
        "\n",
        "def my_func3():\n",
        "  c = \"a string\"\n",
        "  print(\"c value is\", c)"
      ],
      "execution_count": 0,
      "outputs": []
    },
    {
      "cell_type": "code",
      "metadata": {
        "id": "XjsFocRh5CgR",
        "colab_type": "code",
        "colab": {
          "base_uri": "https://localhost:8080/",
          "height": 36
        },
        "outputId": "2f3da563-ae22-4f24-857d-da3aef17e7c2"
      },
      "source": [
        "my_func3()"
      ],
      "execution_count": 23,
      "outputs": [
        {
          "output_type": "stream",
          "text": [
            "c value is a string\n"
          ],
          "name": "stdout"
        }
      ]
    },
    {
      "cell_type": "code",
      "metadata": {
        "id": "eFxjzm1S5WgX",
        "colab_type": "code",
        "colab": {
          "base_uri": "https://localhost:8080/",
          "height": 36
        },
        "outputId": "4146fb84-2f37-49de-e344-b5aee60366f2"
      },
      "source": [
        "print(c)"
      ],
      "execution_count": 24,
      "outputs": [
        {
          "output_type": "stream",
          "text": [
            "21\n"
          ],
          "name": "stdout"
        }
      ]
    },
    {
      "cell_type": "markdown",
      "metadata": {
        "id": "FdA5LkYz5E5k",
        "colab_type": "text"
      },
      "source": [
        "グローバルも、ローカルスコープも、どちらも同じ変数名が存在しますと、\n",
        "1. ローカルスコープで作成した変数は**別の変数**になっています。例のコードで、関数の中`c = \"a string\"`を書いた時、グローバルスコープの`c`の中身は変わっていませんでした。\n",
        "2. ローカルスコープの変数があると、グローバルスコープの同じ名前の変数は**アクセス出来なくなります**。(shadowing)\n",
        "\n",
        "もうし、関数の中にグローバルスコープの変数を変えたい場合は、`global`キーワードを使えます。"
      ]
    },
    {
      "cell_type": "code",
      "metadata": {
        "id": "iM_zdARE590T",
        "colab_type": "code",
        "colab": {}
      },
      "source": [
        "d = 73\n",
        "\n",
        "def my_func4():\n",
        "  global d\n",
        "  print(\"my_func4: d value was\", d)\n",
        "  d = \"I am a string now\"\n",
        "  print(\"my_func4: d value is\", d)"
      ],
      "execution_count": 0,
      "outputs": []
    },
    {
      "cell_type": "code",
      "metadata": {
        "id": "jIoRdUxq6gQo",
        "colab_type": "code",
        "colab": {
          "base_uri": "https://localhost:8080/",
          "height": 54
        },
        "outputId": "f60b8e6a-e248-4097-84c3-94abbc6ddb89"
      },
      "source": [
        "my_func4()"
      ],
      "execution_count": 29,
      "outputs": [
        {
          "output_type": "stream",
          "text": [
            "my_func4: d value was 73\n",
            "my_func4: d value is I am a string now\n"
          ],
          "name": "stdout"
        }
      ]
    },
    {
      "cell_type": "code",
      "metadata": {
        "id": "WTqGAZ6L6hg8",
        "colab_type": "code",
        "colab": {
          "base_uri": "https://localhost:8080/",
          "height": 36
        },
        "outputId": "be4589dd-da15-4cfc-837c-3f4e0311b578"
      },
      "source": [
        "print(d)"
      ],
      "execution_count": 30,
      "outputs": [
        {
          "output_type": "stream",
          "text": [
            "I am a string now\n"
          ],
          "name": "stdout"
        }
      ]
    },
    {
      "cell_type": "markdown",
      "metadata": {
        "id": "Hbp5Zw-Q6icL",
        "colab_type": "text"
      },
      "source": [
        "## クラスとオブジェクト指向\n",
        "\n",
        "オブジェクト指向は複雑データタイプと、このタイプに対するオペレーションのプログラムの書き方です。\n",
        "\n",
        "例えば、簡単な物理シミュレーションを考えましょう。ボールがあって、投げた時、ニュートン力学に関して、どこまで行くか、プログラムで書きたい。\n",
        "\n",
        "ボールは重さと１"
      ]
    },
    {
      "cell_type": "code",
      "metadata": {
        "id": "UGBg_hPi7168",
        "colab_type": "code",
        "colab": {}
      },
      "source": [
        "ball_1 = {\n",
        "    \"weight\": 1,  # kg\n",
        "    \"position\": [0., 0., 0.]\n",
        "}"
      ],
      "execution_count": 0,
      "outputs": []
    }
  ]
}
{
  "nbformat": 4,
  "nbformat_minor": 0,
  "metadata": {
    "colab": {
      "name": "Untitled1.ipynb",
      "provenance": [],
      "authorship_tag": "ABX9TyMPwkHseftsSXJI3R/LLq60",
      "include_colab_link": true
    },
    "kernelspec": {
      "name": "python3",
      "display_name": "Python 3"
    },
    "accelerator": "GPU"
  },
  "cells": [
    {
      "cell_type": "markdown",
      "metadata": {
        "id": "view-in-github",
        "colab_type": "text"
      },
      "source": [
        "<a href=\"https://colab.research.google.com/github/onolab-tmu/audio-processing-100-knocks/blob/master/lesson7.ipynb\" target=\"_parent\"><img src=\"https://colab.research.google.com/assets/colab-badge.svg\" alt=\"Open In Colab\"/></a>"
      ]
    },
    {
      "cell_type": "markdown",
      "metadata": {
        "id": "2MhROWkjK5tI",
        "colab_type": "text"
      },
      "source": [
        "Lesson 7: Chainerに基づく深層学習\n",
        "===============================\n",
        "\n",
        "* チュートリアル：https://tutorials.chainer.org/ja/tutorial.html\n",
        "* ドキュメンテーション：https://docs.chainer.org/en/stable/\n",
        "\n",
        "GPUを是非使いましょう！ (`Runtime` > `Change runtime type` > `Hardware` `accelerator` > `GPU`)"
      ]
    },
    {
      "cell_type": "code",
      "metadata": {
        "id": "5WarB6maLJWa",
        "colab_type": "code",
        "colab": {
          "base_uri": "https://localhost:8080/",
          "height": 295
        },
        "outputId": "6d847157-adae-4a80-d1bc-376ae726edc6"
      },
      "source": [
        "import chainer\n",
        "chainer.print_runtime_info()"
      ],
      "execution_count": 5,
      "outputs": [
        {
          "output_type": "stream",
          "text": [
            "Platform: Linux-4.14.137+-x86_64-with-Ubuntu-18.04-bionic\n",
            "Chainer: 6.5.0\n",
            "ChainerX: Not Available\n",
            "NumPy: 1.17.5\n",
            "CuPy:\n",
            "  CuPy Version          : 6.5.0\n",
            "  CUDA Root             : /usr/local/cuda\n",
            "  CUDA Build Version    : 10010\n",
            "  CUDA Driver Version   : 10010\n",
            "  CUDA Runtime Version  : 10010\n",
            "  cuDNN Build Version   : 7603\n",
            "  cuDNN Version         : 7603\n",
            "  NCCL Build Version    : 2402\n",
            "  NCCL Runtime Version  : 2402\n",
            "iDeep: 2.0.0.post3\n"
          ],
          "name": "stdout"
        }
      ]
    },
    {
      "cell_type": "code",
      "metadata": {
        "id": "hYDLG2orGBLH",
        "colab_type": "code",
        "colab": {}
      },
      "source": [
        "import chainer\n",
        "import chainer.functions as F\n",
        "import chainer.links as L\n",
        "from chainer import training\n",
        "from chainer.training import extensions\n",
        "\n",
        "import numpy as np\n",
        "import matplotlib\n",
        "import matplotlib.pyplot as plt\n",
        "#matplotlib.use('Agg')\n",
        "\n",
        "from IPython.display import Image"
      ],
      "execution_count": 0,
      "outputs": []
    },
    {
      "cell_type": "code",
      "metadata": {
        "id": "dJ5fZWrNGeMj",
        "colab_type": "code",
        "colab": {
          "base_uri": "https://localhost:8080/",
          "height": 54
        },
        "outputId": "d1f760bb-29b2-420f-bc2e-9295aca14b35"
      },
      "source": [
        "# Load the MNIST dataset\n",
        "train, test = chainer.datasets.get_mnist()\n",
        "print(\"Number of training examples:\", len(train))\n",
        "print(\"Number of test examples:\", len(test))"
      ],
      "execution_count": 7,
      "outputs": [
        {
          "output_type": "stream",
          "text": [
            "Number of training examples: 60000\n",
            "Number of test examples: 10000\n"
          ],
          "name": "stdout"
        }
      ]
    },
    {
      "cell_type": "code",
      "metadata": {
        "id": "1ZX4k_n8HyVG",
        "colab_type": "code",
        "colab": {}
      },
      "source": [
        "def show_digit(example):\n",
        "  w = int(np.sqrt(example[0].shape[0]))\n",
        "  assert w * w == example[0].shape[0], \"not a square image\"\n",
        "  plt.imshow(example[0].reshape(w, w), cmap=\"Greys\")\n",
        "  plt.title(f\"label {example[1]}\")"
      ],
      "execution_count": 0,
      "outputs": []
    },
    {
      "cell_type": "code",
      "metadata": {
        "id": "FK2Cqu58H14M",
        "colab_type": "code",
        "colab": {
          "base_uri": "https://localhost:8080/",
          "height": 281
        },
        "outputId": "8cb2ca59-47e2-4fdd-e0ac-c1c332704e2c"
      },
      "source": [
        "show_digit(train[10000])"
      ],
      "execution_count": 9,
      "outputs": [
        {
          "output_type": "display_data",
          "data": {
            "image/png": "[encoded data removed]",
            "text/plain": [
              "<Figure size 432x288 with 1 Axes>"
            ]
          },
          "metadata": {
            "tags": []
          }
        }
      ]
    },
    {
      "cell_type": "code",
      "metadata": {
        "id": "NN3nHQ8mIagG",
        "colab_type": "code",
        "colab": {}
      },
      "source": [
        "# Network definition\n",
        "class MLP(chainer.Chain):\n",
        "\n",
        "    def __init__(self, n_units, n_out):\n",
        "        super(MLP, self).__init__()\n",
        "        with self.init_scope():\n",
        "            # the size of the inputs to each layer will be inferred\n",
        "            self.l1 = L.Linear(None, n_units)  # n_in -> n_units\n",
        "            self.l2 = L.Linear(None, n_units)  # n_units -> n_units\n",
        "            self.l3 = L.Linear(None, n_out)  # n_units -> n_out\n",
        "\n",
        "    def forward(self, x):\n",
        "        h1 = F.relu(self.l1(x))\n",
        "        h2 = F.relu(self.l2(h1))\n",
        "        return self.l3(h2)"
      ],
      "execution_count": 0,
      "outputs": []
    },
    {
      "cell_type": "code",
      "metadata": {
        "id": "YO8Jbo_OKDNR",
        "colab_type": "code",
        "colab": {}
      },
      "source": [
        "# gpu device\n",
        "device = chainer.get_device(0)\n",
        "\n",
        "# number of units in hidden layers\n",
        "unit = 1000\n",
        "\n",
        "# mini-batch size (i.e. number of examples used in update)\n",
        "batchsize = 100\n",
        "\n",
        "# number of epochs (i.e. cycles over the dataset)\n",
        "epoch = 20\n",
        "\n",
        "# directory to output the results\n",
        "out = \"results\""
      ],
      "execution_count": 0,
      "outputs": []
    },
    {
      "cell_type": "code",
      "metadata": {
        "id": "jmsNtGGUIwpF",
        "colab_type": "code",
        "colab": {}
      },
      "source": [
        "# Set up a neural network to train\n",
        "# Classifier reports softmax cross entropy loss and accuracy at every\n",
        "# iteration, which will be used by the PrintReport extension below.\n",
        "mlp_model = MLP(unit, 10)\n",
        "model = L.Classifier(mlp_model)\n",
        "model.to_device(device)\n",
        "device.use()"
      ],
      "execution_count": 0,
      "outputs": []
    },
    {
      "cell_type": "code",
      "metadata": {
        "id": "dqSFcnOaJ0ba",
        "colab_type": "code",
        "colab": {
          "base_uri": "https://localhost:8080/",
          "height": 36
        },
        "outputId": "7966037f-acb2-4b90-f3fe-38d882f66c0b"
      },
      "source": [
        "# Setup an optimizer\n",
        "optimizer = chainer.optimizers.Adam()\n",
        "optimizer.setup(model)"
      ],
      "execution_count": 49,
      "outputs": [
        {
          "output_type": "execute_result",
          "data": {
            "text/plain": [
              "<chainer.optimizers.adam.Adam at 0x7faa2db84e48>"
            ]
          },
          "metadata": {
            "tags": []
          },
          "execution_count": 49
        }
      ]
    },
    {
      "cell_type": "code",
      "metadata": {
        "id": "Bn4fViDkLgor",
        "colab_type": "code",
        "colab": {}
      },
      "source": [
        "# Wrap the data in iterators\n",
        "train_iter = chainer.iterators.SerialIterator(train, batchsize)\n",
        "test_iter = chainer.iterators.SerialIterator(test, batchsize,\n",
        "                                             repeat=False, shuffle=False)"
      ],
      "execution_count": 0,
      "outputs": []
    },
    {
      "cell_type": "code",
      "metadata": {
        "id": "ZQmvd_5FLril",
        "colab_type": "code",
        "colab": {}
      },
      "source": [
        "# Set up a trainer\n",
        "updater = training.updaters.StandardUpdater(\n",
        "    train_iter, optimizer, device=device)\n",
        "trainer = training.Trainer(updater, (epoch, 'epoch'), out=out)\n",
        "\n",
        "# Evaluate the model with the test dataset for each epoch\n",
        "trainer.extend(extensions.Evaluator(test_iter, model, device=device))\n",
        "trainer.extend(extensions.DumpGraph('main/loss'))\n",
        "\n",
        "# Take a snapshot for each specified epoch\n",
        "frequency = epoch\n",
        "# Take a snapshot each ``frequency`` epoch, delete old stale\n",
        "# snapshots and automatically load from snapshot files if any\n",
        "# files are already resident at result directory.\n",
        "trainer.extend(extensions.snapshot(n_retains=1, autoload=True),\n",
        "                trigger=(frequency, 'epoch'))\n",
        "\n",
        "# Write a log of evaluation statistics for each epoch\n",
        "trainer.extend(extensions.LogReport())\n",
        "\n",
        "# Save two plot images to the result dir\n",
        "trainer.extend(\n",
        "    extensions.PlotReport(['main/loss', 'validation/main/loss'],\n",
        "                          'epoch', file_name='loss.png'))\n",
        "trainer.extend(\n",
        "    extensions.PlotReport(\n",
        "        ['main/accuracy', 'validation/main/accuracy'],\n",
        "        'epoch', file_name='accuracy.png'))\n",
        "\n",
        "# Print selected entries of the log to stdout\n",
        "# Here \"main\" refers to the target link of the \"main\" optimizer again, and\n",
        "# \"validation\" refers to the default name of the Evaluator extension.\n",
        "# Entries other than 'epoch' are reported by the Classifier link, called by\n",
        "# either the updater or the evaluator.\n",
        "trainer.extend(extensions.PrintReport(\n",
        "    ['epoch', 'main/loss', 'validation/main/loss',\n",
        "      'main/accuracy', 'validation/main/accuracy', 'elapsed_time']))\n",
        "\n",
        "# Print a progress bar to stdout\n",
        "trainer.extend(extensions.ProgressBar())"
      ],
      "execution_count": 0,
      "outputs": []
    },
    {
      "cell_type": "code",
      "metadata": {
        "id": "eCN9eOKGL2Ij",
        "colab_type": "code",
        "colab": {
          "base_uri": "https://localhost:8080/",
          "height": 17
        },
        "outputId": "32c804aa-868e-4eb7-a18f-b0299e1709ca"
      },
      "source": [
        "# Run the training\n",
        "trainer.run()"
      ],
      "execution_count": 52,
      "outputs": [
        {
          "output_type": "stream",
          "text": [
            "\u001b[J"
          ],
          "name": "stdout"
        }
      ]
    },
    {
      "cell_type": "code",
      "metadata": {
        "id": "ab7qBjyxMI0B",
        "colab_type": "code",
        "colab": {
          "base_uri": "https://localhost:8080/",
          "height": 36
        },
        "outputId": "ef0e5792-5ce7-44d4-d000-08722c596274"
      },
      "source": [
        "!ls results"
      ],
      "execution_count": 53,
      "outputs": [
        {
          "output_type": "stream",
          "text": [
            "accuracy.png  cg.dot  cg.png  log  loss.png  snapshot_iter_12000\n"
          ],
          "name": "stdout"
        }
      ]
    },
    {
      "cell_type": "code",
      "metadata": {
        "id": "W-uIq3QiMKhP",
        "colab_type": "code",
        "colab": {
          "base_uri": "https://localhost:8080/",
          "height": 281
        },
        "outputId": "ea674477-1037-42ec-e84b-2a41fa0998d0"
      },
      "source": [
        "Image('results/accuracy.png')"
      ],
      "execution_count": 54,
      "outputs": [
        {
          "output_type": "execute_result",
          "data": {
            "image/png": "[encoded data removed]",
            "text/plain": [
              "<IPython.core.display.Image object>"
            ]
          },
          "metadata": {
            "tags": []
          },
          "execution_count": 54
        }
      ]
    },
    {
      "cell_type": "code",
      "metadata": {
        "id": "OPWDEiVqNyqY",
        "colab_type": "code",
        "colab": {
          "base_uri": "https://localhost:8080/",
          "height": 283
        },
        "outputId": "6c493e0c-26d6-4dc4-a370-fe2886115340"
      },
      "source": [
        "Image('results/loss.png')"
      ],
      "execution_count": 55,
      "outputs": [
        {
          "output_type": "execute_result",
          "data": {
            "image/png": "[encoded data removed]",
            "text/plain": [
              "<IPython.core.display.Image object>"
            ]
          },
          "metadata": {
            "tags": []
          },
          "execution_count": 55
        }
      ]
    },
    {
      "cell_type": "code",
      "metadata": {
        "id": "V0MyZ8-1OCO4",
        "colab_type": "code",
        "colab": {}
      },
      "source": [
        "def inference(example):\n",
        "  x, answer = example\n",
        "  x = device.send(x)\n",
        "  with chainer.using_config('train', False):\n",
        "      prediction = mlp_model(x[None, ...])[0].array.argmax()\n",
        "\n",
        "  show_digit(example)\n",
        "  print('Prediction:', prediction)\n",
        "  print('Answer:', answer)"
      ],
      "execution_count": 0,
      "outputs": []
    },
    {
      "cell_type": "code",
      "metadata": {
        "id": "CPlGqkaeOLCF",
        "colab_type": "code",
        "colab": {
          "base_uri": "https://localhost:8080/",
          "height": 318
        },
        "outputId": "34ccb16c-b80d-4ac4-9468-2cfaa82d6a30"
      },
      "source": [
        "inference(test[10])"
      ],
      "execution_count": 61,
      "outputs": [
        {
          "output_type": "stream",
          "text": [
            "Prediction: 0\n",
            "Answer: 0\n"
          ],
          "name": "stdout"
        },
        {
          "output_type": "display_data",
          "data": {
            "image/png": "[encoded data removed]",
            "text/plain": [
              "<Figure size 432x288 with 1 Axes>"
            ]
          },
          "metadata": {
            "tags": []
          }
        }
      ]
    },
    {
      "cell_type": "code",
      "metadata": {
        "id": "py1PFKS7PFf8",
        "colab_type": "code",
        "colab": {}
      },
      "source": [
        ""
      ],
      "execution_count": 0,
      "outputs": []
    }
  ]
}
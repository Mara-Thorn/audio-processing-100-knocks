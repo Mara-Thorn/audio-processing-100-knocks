{
  "nbformat": 4,
  "nbformat_minor": 0,
  "metadata": {
    "colab": {
      "name": "Untitled",
      "provenance": [],
      "collapsed_sections": [],
      "include_colab_link": true
    },
    "kernelspec": {
      "name": "python3",
      "display_name": "Python 3"
    }
  },
  "cells": [
    {
      "cell_type": "markdown",
      "metadata": {
        "id": "view-in-github",
        "colab_type": "text"
      },
      "source": [
        "<a href=\"https://colab.research.google.com/github/onolab-tmu/audio-processing-100-knocks/blob/master/lesson3.ipynb\" target=\"_parent\"><img src=\"https://colab.research.google.com/assets/colab-badge.svg\" alt=\"Open In Colab\"/></a>"
      ]
    },
    {
      "cell_type": "markdown",
      "metadata": {
        "id": "bHjztxaWOYz2",
        "colab_type": "text"
      },
      "source": [
        "# オーディオデータの読み込み\n",
        "\n",
        "今日はパイソンでアレーと行列の使い方を学んでから、オーディオデータの読み込みと書き込みを学びます。\n"
      ]
    },
    {
      "cell_type": "markdown",
      "metadata": {
        "id": "8GdWqmt2PAgm",
        "colab_type": "text"
      },
      "source": [
        "## Numpy入門\n",
        "\n",
        "パイソンではアレー演算のためのパッケージは`numpy`です。"
      ]
    },
    {
      "cell_type": "code",
      "metadata": {
        "id": "Jy18E3l0Mzec",
        "colab_type": "code",
        "colab": {
          "base_uri": "https://localhost:8080/",
          "height": 36
        },
        "outputId": "af9f17d7-4da5-4f05-95f5-84453b628752"
      },
      "source": [
        "import numpy as np\n",
        "\n",
        "x = np.array([1, 2, 3])\n",
        "y = np.array([4, 5, 6])\n",
        "\n",
        "print(x + y)"
      ],
      "execution_count": 1,
      "outputs": [
        {
          "output_type": "stream",
          "text": [
            "[5 7 9]\n"
          ],
          "name": "stdout"
        }
      ]
    },
    {
      "cell_type": "markdown",
      "metadata": {
        "id": "KcZubYX_hkvF",
        "colab_type": "text"
      },
      "source": [
        "パイソンの`List`に比べて見ましょう。"
      ]
    },
    {
      "cell_type": "code",
      "metadata": {
        "id": "f2w1WYS-hidh",
        "colab_type": "code",
        "colab": {
          "base_uri": "https://localhost:8080/",
          "height": 36
        },
        "outputId": "15ca4c20-3e5c-4ed5-fb9d-64e21bfa4f5f"
      },
      "source": [
        "x_list = [1, 2, 3]\n",
        "y_list = [4, 5, 6]\n",
        "\n",
        "print(x_list + y_list)"
      ],
      "execution_count": 2,
      "outputs": [
        {
          "output_type": "stream",
          "text": [
            "[1, 2, 3, 4, 5, 6]\n"
          ],
          "name": "stdout"
        }
      ]
    },
    {
      "cell_type": "markdown",
      "metadata": {
        "id": "DHIvQ4v9h2Lo",
        "colab_type": "text"
      },
      "source": [
        "`List`だと、`+`は2つのリストを区付けるだけ。\n",
        "\n",
        "`numpy.array`はアレーの予想ごとで計算ができます。\n"
      ]
    },
    {
      "cell_type": "code",
      "metadata": {
        "id": "IfUNCeSMh0SH",
        "colab_type": "code",
        "colab": {
          "base_uri": "https://localhost:8080/",
          "height": 332
        },
        "outputId": "62ed542e-21dd-4d3d-8110-cd538563cf05"
      },
      "source": [
        "# `arange`関数はよく使います\n",
        "x = np.arange(10)\n",
        "print(\"arange(10) =\", x)\n",
        "\n",
        "# スタート、エンドも変えられます\n",
        "# 注意：スタートは入ってる、エンドは入っていない\n",
        "y = np.arange(5, 15)\n",
        "print(\"arange(5, 15) =\", y)\n",
        "\n",
        "# 足し算\n",
        "print(\"x + y =\", x + y)\n",
        "\n",
        "# 掛け算\n",
        "print(\"x * y =\", x * y)\n",
        "\n",
        "# 割り算 (ゼロ割り算は注意)\n",
        "print(\"x / y =\", x / y)\n",
        "\n",
        "# xのy条 (numpyでは、指数関数は `**` で書きます)\n",
        "print(\"x ** y =\", x ** y)\n",
        "print(\"x ** 2 =\", x ** 2)\n",
        "\n",
        "# 対数\n",
        "print(\"log(y) =\", np.log(y))\n",
        "print(\"log10(y) =\", np.log10(y))\n",
        "\n",
        "# 指数関数\n",
        "print(\"exp(y) =\", np.exp(x))"
      ],
      "execution_count": 9,
      "outputs": [
        {
          "output_type": "stream",
          "text": [
            "arange(10) = [0 1 2 3 4 5 6 7 8 9]\n",
            "arange(5, 15) = [ 5  6  7  8  9 10 11 12 13 14]\n",
            "x + y = [ 5  7  9 11 13 15 17 19 21 23]\n",
            "x * y = [  0   6  14  24  36  50  66  84 104 126]\n",
            "x / y = [0.         0.16666667 0.28571429 0.375      0.44444444 0.5\n",
            " 0.54545455 0.58333333 0.61538462 0.64285714]\n",
            "x ** y = [             0              1            128           6561\n",
            "         262144        9765625      362797056    13841287201\n",
            "   549755813888 22876792454961]\n",
            "x ** 2 = [ 0  1  4  9 16 25 36 49 64 81]\n",
            "log(y) = [1.60943791 1.79175947 1.94591015 2.07944154 2.19722458 2.30258509\n",
            " 2.39789527 2.48490665 2.56494936 2.63905733]\n",
            "log10(y) = [0.69897    0.77815125 0.84509804 0.90308999 0.95424251 1.\n",
            " 1.04139269 1.07918125 1.11394335 1.14612804]\n",
            "exp(y) = [1.00000000e+00 2.71828183e+00 7.38905610e+00 2.00855369e+01\n",
            " 5.45981500e+01 1.48413159e+02 4.03428793e+02 1.09663316e+03\n",
            " 2.98095799e+03 8.10308393e+03]\n"
          ],
          "name": "stdout"
        }
      ]
    },
    {
      "cell_type": "markdown",
      "metadata": {
        "id": "ybJSGDGKmNy_",
        "colab_type": "text"
      },
      "source": [
        ""
      ]
    },
    {
      "cell_type": "markdown",
      "metadata": {
        "id": "xwJoWgtHlgJ2",
        "colab_type": "text"
      },
      "source": [
        ""
      ]
    },
    {
      "cell_type": "code",
      "metadata": {
        "id": "iIT3B9QWi3_3",
        "colab_type": "code",
        "colab": {
          "base_uri": "https://localhost:8080/",
          "height": 388
        },
        "outputId": "878ccca1-238c-493c-918e-65f37e20e4bb"
      },
      "source": [
        "!wget https://github.com/onolab-tmu/audio-processing-100-knocks/blob/master/data/piano2.wav?raw=true"
      ],
      "execution_count": 10,
      "outputs": [
        {
          "output_type": "stream",
          "text": [
            "--2019-10-31 02:15:04--  https://github.com/onolab-tmu/audio-processing-100-knocks/blob/master/data/piano2.wav?raw=true\n",
            "Resolving github.com (github.com)... 140.82.113.4\n",
            "Connecting to github.com (github.com)|140.82.113.4|:443... connected.\n",
            "HTTP request sent, awaiting response... 302 Found\n",
            "Location: https://github.com/onolab-tmu/audio-processing-100-knocks/raw/master/data/piano2.wav [following]\n",
            "--2019-10-31 02:15:05--  https://github.com/onolab-tmu/audio-processing-100-knocks/raw/master/data/piano2.wav\n",
            "Reusing existing connection to github.com:443.\n",
            "HTTP request sent, awaiting response... 302 Found\n",
            "Location: https://raw.githubusercontent.com/onolab-tmu/audio-processing-100-knocks/master/data/piano2.wav [following]\n",
            "--2019-10-31 02:15:05--  https://raw.githubusercontent.com/onolab-tmu/audio-processing-100-knocks/master/data/piano2.wav\n",
            "Resolving raw.githubusercontent.com (raw.githubusercontent.com)... 151.101.0.133, 151.101.64.133, 151.101.128.133, ...\n",
            "Connecting to raw.githubusercontent.com (raw.githubusercontent.com)|151.101.0.133|:443... connected.\n",
            "HTTP request sent, awaiting response... 200 OK\n",
            "Length: 1210892 (1.2M) [audio/wav]\n",
            "Saving to: ‘piano2.wav?raw=true’\n",
            "\n",
            "piano2.wav?raw=true 100%[===================>]   1.15M  --.-KB/s    in 0.04s   \n",
            "\n",
            "2019-10-31 02:15:05 (26.5 MB/s) - ‘piano2.wav?raw=true’ saved [1210892/1210892]\n",
            "\n"
          ],
          "name": "stdout"
        }
      ]
    },
    {
      "cell_type": "code",
      "metadata": {
        "id": "mJ42nTl6mEi6",
        "colab_type": "code",
        "colab": {}
      },
      "source": [
        ""
      ],
      "execution_count": 0,
      "outputs": []
    }
  ]
}
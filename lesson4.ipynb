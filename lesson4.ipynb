{
  "nbformat": 4,
  "nbformat_minor": 0,
  "metadata": {
    "colab": {
      "name": "lesson4.ipynb",
      "provenance": [],
      "include_colab_link": true
    },
    "kernelspec": {
      "name": "python3",
      "display_name": "Python 3"
    }
  },
  "cells": [
    {
      "cell_type": "markdown",
      "metadata": {
        "id": "view-in-github",
        "colab_type": "text"
      },
      "source": [
        "<a href=\"https://colab.research.google.com/github/onolab-tmu/audio-processing-100-knocks/blob/master/lesson4.ipynb\" target=\"_parent\"><img src=\"https://colab.research.google.com/assets/colab-badge.svg\" alt=\"Open In Colab\"/></a>"
      ]
    },
    {
      "cell_type": "markdown",
      "metadata": {
        "id": "R6fPTh-JidTP",
        "colab_type": "text"
      },
      "source": [
        "# パイソンのNumpyで線形台数\n",
        "\n",
        "## 先週のリマインド"
      ]
    },
    {
      "cell_type": "code",
      "metadata": {
        "id": "yZJzclF3o57a",
        "colab_type": "code",
        "colab": {}
      },
      "source": [
        "import numpy as np  # アレー演算と線形台数\n",
        "import matplotlib.pyplot as plt  # 図\n",
        "from scipy.io import wavfile  # オーディオファイルの読み込み\n",
        "from IPython.display import Audio  # ノートブックでのオーディオ再生"
      ],
      "execution_count": 0,
      "outputs": []
    },
    {
      "cell_type": "markdown",
      "metadata": {
        "id": "cu-o3ifzlBmd",
        "colab_type": "text"
      },
      "source": [
        "## Numpyでアレー演算\n",
        "\n",
        "`numpy`はアレー演算と線形代数のパッケージ\n",
        "\n"
      ]
    },
    {
      "cell_type": "markdown",
      "metadata": {
        "id": "2JutUn0AmDNY",
        "colab_type": "text"
      },
      "source": [
        "１次元アレーか**ベクトル**"
      ]
    },
    {
      "cell_type": "code",
      "metadata": {
        "id": "yVrRpPPZlH0Y",
        "colab_type": "code",
        "colab": {
          "base_uri": "https://localhost:8080/",
          "height": 54
        },
        "outputId": "3f67e726-6f32-4a34-d5fb-c5a6a8b3585c"
      },
      "source": [
        "a_1d = np.array([1, 0.5, -2])\n",
        "print(a_1d)\n",
        "print(\"The shape of this array is\", a_1d.shape)"
      ],
      "execution_count": 29,
      "outputs": [
        {
          "output_type": "stream",
          "text": [
            "[ 1.   0.5 -2. ]\n",
            "The shape of this array is (3,)\n"
          ],
          "name": "stdout"
        }
      ]
    },
    {
      "cell_type": "markdown",
      "metadata": {
        "id": "KAcjYl2slSPH",
        "colab_type": "text"
      },
      "source": [
        "0から、`N-1`までの整数"
      ]
    },
    {
      "cell_type": "code",
      "metadata": {
        "id": "PEV45pcAlbBc",
        "colab_type": "code",
        "colab": {
          "base_uri": "https://localhost:8080/",
          "height": 35
        },
        "outputId": "ea417dcc-8926-4d02-ec4d-8004ec3a8d93"
      },
      "source": [
        "N = 10\n",
        "a = np.arange(N+1)\n",
        "print(a)"
      ],
      "execution_count": 32,
      "outputs": [
        {
          "output_type": "stream",
          "text": [
            "[ 0  1  2  3  4  5  6  7  8  9 10]\n"
          ],
          "name": "stdout"
        }
      ]
    },
    {
      "cell_type": "markdown",
      "metadata": {
        "id": "qBldl2iJlpLh",
        "colab_type": "text"
      },
      "source": [
        "１から、`N-1`まで、2つずつ"
      ]
    },
    {
      "cell_type": "code",
      "metadata": {
        "id": "7JULYxS9ljtc",
        "colab_type": "code",
        "colab": {
          "base_uri": "https://localhost:8080/",
          "height": 35
        },
        "outputId": "44ea59b9-1c4b-444c-bbcc-2f82100f3ed9"
      },
      "source": [
        "b = np.arange(2, N, 3)\n",
        "print(b)"
      ],
      "execution_count": 35,
      "outputs": [
        {
          "output_type": "stream",
          "text": [
            "[2 5 8]\n"
          ],
          "name": "stdout"
        }
      ]
    },
    {
      "cell_type": "markdown",
      "metadata": {
        "id": "8Dcn0gkXl0QB",
        "colab_type": "text"
      },
      "source": [
        "`N`から、１まで"
      ]
    },
    {
      "cell_type": "code",
      "metadata": {
        "id": "fFNKBgT4l5vn",
        "colab_type": "code",
        "colab": {
          "base_uri": "https://localhost:8080/",
          "height": 35
        },
        "outputId": "3d0bed8d-bed5-4206-9a5d-fe3777d7390f"
      },
      "source": [
        "c = np.arange(N, 0, -1)\n",
        "print(c)"
      ],
      "execution_count": 17,
      "outputs": [
        {
          "output_type": "stream",
          "text": [
            "[10  9  8  7  6  5  4  3  2  1]\n"
          ],
          "name": "stdout"
        }
      ]
    },
    {
      "cell_type": "markdown",
      "metadata": {
        "id": "_b8rUQS0mwgW",
        "colab_type": "text"
      },
      "source": [
        "行列・２次元アレーも作れます"
      ]
    },
    {
      "cell_type": "code",
      "metadata": {
        "id": "hq7OTT4dm1iX",
        "colab_type": "code",
        "colab": {
          "base_uri": "https://localhost:8080/",
          "height": 72
        },
        "outputId": "d4adf552-702f-46a2-d064-76db3fa47ee9"
      },
      "source": [
        "a_2d = np.array(\n",
        "    [[1, 2, 3],\n",
        "     [4, 5, 6]]\n",
        ")\n",
        "print(a_2d)\n",
        "print(\"The size of this array is\", a_2d.shape)"
      ],
      "execution_count": 18,
      "outputs": [
        {
          "output_type": "stream",
          "text": [
            "[[1 2 3]\n",
            " [4 5 6]]\n",
            "The size of this array is (2, 3)\n"
          ],
          "name": "stdout"
        }
      ]
    },
    {
      "cell_type": "markdown",
      "metadata": {
        "id": "8BBnFjkZmVBq",
        "colab_type": "text"
      },
      "source": [
        "示したサイズの`0`入りのアレーも作れます"
      ]
    },
    {
      "cell_type": "code",
      "metadata": {
        "id": "1yFn90I_mhwj",
        "colab_type": "code",
        "colab": {
          "base_uri": "https://localhost:8080/",
          "height": 35
        },
        "outputId": "94ddd451-6478-4081-8cd7-249a901b9371"
      },
      "source": [
        "my_empty_array = np.zeros(10)\n",
        "print(my_empty_array)"
      ],
      "execution_count": 19,
      "outputs": [
        {
          "output_type": "stream",
          "text": [
            "[0. 0. 0. 0. 0. 0. 0. 0. 0. 0.]\n"
          ],
          "name": "stdout"
        }
      ]
    },
    {
      "cell_type": "markdown",
      "metadata": {
        "id": "vzvcQ3cln2R9",
        "colab_type": "text"
      },
      "source": [
        "２次元も出来ます"
      ]
    },
    {
      "cell_type": "code",
      "metadata": {
        "id": "arxaT7EAn4iG",
        "colab_type": "code",
        "colab": {
          "base_uri": "https://localhost:8080/",
          "height": 109
        },
        "outputId": "60dc01da-0cad-4dc5-8aa9-57e4943af8a3"
      },
      "source": [
        "# shape は`(4, 3)`, 括弧は大事です！\n",
        "my_empty_array_2d = np.zeros((4, 3))\n",
        "print(my_empty_array_2d)\n",
        "print(\"The shape of this array is\", my_empty_array_2d.shape)"
      ],
      "execution_count": 20,
      "outputs": [
        {
          "output_type": "stream",
          "text": [
            "[[0. 0. 0.]\n",
            " [0. 0. 0.]\n",
            " [0. 0. 0.]\n",
            " [0. 0. 0.]]\n",
            "The shape of this array is (4, 3)\n"
          ],
          "name": "stdout"
        }
      ]
    },
    {
      "cell_type": "markdown",
      "metadata": {
        "id": "OEH2zqbcmnmd",
        "colab_type": "text"
      },
      "source": [
        "同じく、`1`だけのアレーも作れます"
      ]
    },
    {
      "cell_type": "code",
      "metadata": {
        "id": "_0eMSjQJmr7f",
        "colab_type": "code",
        "colab": {
          "base_uri": "https://localhost:8080/",
          "height": 109
        },
        "outputId": "418e4d93-c38c-4de1-f399-40e21494bd77"
      },
      "source": [
        "my_one_array = np.ones(10)\n",
        "print(\"A 1D array of 1s with shape:\", my_one_array.shape)\n",
        "print(my_one_array)\n",
        "\n",
        "my_one_array_2d = np.ones((2, 4))\n",
        "print(\"A 2D array of 1s with shape:\", my_one_array_2d.shape)\n",
        "print(my_one_array_2d)"
      ],
      "execution_count": 25,
      "outputs": [
        {
          "output_type": "stream",
          "text": [
            "A 1D array of 1s with shape: (10,)\n",
            "[1. 1. 1. 1. 1. 1. 1. 1. 1. 1.]\n",
            "A 2D array of 1s with shape: (2, 4)\n",
            "[[1. 1. 1. 1.]\n",
            " [1. 1. 1. 1.]]\n"
          ],
          "name": "stdout"
        }
      ]
    },
    {
      "cell_type": "markdown",
      "metadata": {
        "id": "F4ZU9qEUqks5",
        "colab_type": "text"
      },
      "source": [
        "## Numpyで線形台数やりましょう！"
      ]
    },
    {
      "cell_type": "markdown",
      "metadata": {
        "id": "qBDB6tkNqrpX",
        "colab_type": "text"
      },
      "source": [
        "### 第１問\n",
        "\n",
        "次の連立方程式をNumpyでときましょう。\n",
        "\n",
        "$$\n",
        "  \\left\\{\n",
        "    \\begin{array}{rcl}\n",
        "    3 x_1 - 2 x_2 & = & 5 \\\\\n",
        "    -7x_1 + 3 x_2 & = & -10\n",
        "   \\end{array}\n",
        "  \\right.\n",
        "$$\n",
        "\n",
        "連立方程式は行列の形でかけます\n",
        "$$\n",
        "\\mathbf{A} \\mathbf{x} = \\mathbf{b}\n",
        "$$\n",
        "なので、最初はNumpyのアレーで行列$\\mathbf{A}$とベクトル$\\mathbf{b}$を書きます。\n",
        "\n",
        "出来たら、`x = np.linalg.solve(A, b)`でとく事が出来ます。\n"
      ]
    },
    {
      "cell_type": "code",
      "metadata": {
        "id": "vckGaPGQg_p8",
        "colab_type": "code",
        "colab": {
          "base_uri": "https://localhost:8080/",
          "height": 35
        },
        "outputId": "eefd932e-c99b-4c69-cc7c-56ff7ad71969"
      },
      "source": [
        "A = np.array(\n",
        "    [[3, -2],\n",
        "     [-7, 3]]\n",
        ")\n",
        "b = np.array([5, -10])\n",
        "x = np.linalg.solve(A, b)\n",
        "print(x)"
      ],
      "execution_count": 40,
      "outputs": [
        {
          "output_type": "stream",
          "text": [
            "[ 1. -1.]\n"
          ],
          "name": "stdout"
        }
      ]
    },
    {
      "cell_type": "markdown",
      "metadata": {
        "id": "fqTUEr8rvkcj",
        "colab_type": "text"
      },
      "source": [
        "次は、行列積で、答えを確かめましょう。行列積は`@`オペレーターか、`np.dot`を使えます。"
      ]
    },
    {
      "cell_type": "code",
      "metadata": {
        "id": "oqHf3F0XiFte",
        "colab_type": "code",
        "colab": {
          "base_uri": "https://localhost:8080/",
          "height": 54
        },
        "outputId": "9b8696f8-7534-4cd8-b3d4-02324d822a44"
      },
      "source": [
        "b_2 = A @ x  # または, b_2 = np.dot(A, x)\n",
        "print(b)\n",
        "print(b_2)"
      ],
      "execution_count": 41,
      "outputs": [
        {
          "output_type": "stream",
          "text": [
            "[  5 -10]\n",
            "[  5. -10.]\n"
          ],
          "name": "stdout"
        }
      ]
    },
    {
      "cell_type": "markdown",
      "metadata": {
        "id": "w84ez86m3iTn",
        "colab_type": "text"
      },
      "source": [
        "### 第２問 線形回帰\n",
        "\n",
        "$$\n",
        "y_i = a x_i + b + w_i, \\quad i=1,\\ldots,N\n",
        "$$\n",
        "\n",
        "* $a,b$はコンスタントパラメーター\n",
        "* $w_i$はノイズです\n",
        "\n",
        "$a,b$をデータから求めましょう"
      ]
    },
    {
      "cell_type": "code",
      "metadata": {
        "id": "o4tH8L_Q3h7J",
        "colab_type": "code",
        "colab": {
          "base_uri": "https://localhost:8080/",
          "height": 283
        },
        "outputId": "621c3739-2bc9-4db9-8503-ee2088cdaeb5"
      },
      "source": [
        "a = 3.\n",
        "b = -1\n",
        "N = 1000\n",
        "\n",
        "x = np.arange(N)\n",
        "\n",
        "y = a * x + b + 5 * np.random.randn(N)\n",
        "\n",
        "plt.plot(x, y)"
      ],
      "execution_count": 71,
      "outputs": [
        {
          "output_type": "execute_result",
          "data": {
            "text/plain": [
              "[<matplotlib.lines.Line2D at 0x7fbdf90f10f0>]"
            ]
          },
          "metadata": {
            "tags": []
          },
          "execution_count": 71
        },
        {
          "output_type": "display_data",
          "data": {
            "image/png": "[encoded data removed]",
            "text/plain": [
              "<Figure size 432x288 with 1 Axes>"
            ]
          },
          "metadata": {
            "tags": []
          }
        }
      ]
    },
    {
      "cell_type": "markdown",
      "metadata": {
        "id": "Ki9ErbRjIcwJ",
        "colab_type": "text"
      },
      "source": [
        ""
      ]
    },
    {
      "cell_type": "code",
      "metadata": {
        "id": "bAzgo_KSNkAT",
        "colab_type": "code",
        "colab": {
          "base_uri": "https://localhost:8080/",
          "height": 35
        },
        "outputId": "7b199650-a3df-4911-98a4-aae911d63076"
      },
      "source": [
        "x_sum_sq = np.sum(x ** 2)\n",
        "x_sum = np.sum(x)\n",
        "xy_sum = np.sum(x * y)\n",
        "y_sum = np.sum(y)\n",
        "\n",
        "A = np.array([[x_sum_sq, x_sum], [x_sum, N]])\n",
        "b = np.array([xy_sum, y_sum])\n",
        "p = np.linalg.solve(A, b)\n",
        "print(p)\n",
        "\n",
        "y_2 = p[0] * x + p[1]"
      ],
      "execution_count": 72,
      "outputs": [
        {
          "output_type": "stream",
          "text": [
            "[ 3.00010405 -1.16907778]\n"
          ],
          "name": "stdout"
        }
      ]
    },
    {
      "cell_type": "code",
      "metadata": {
        "id": "q_tY-YriG14f",
        "colab_type": "code",
        "colab": {
          "base_uri": "https://localhost:8080/",
          "height": 35
        },
        "outputId": "dc67db2a-3e3b-42e7-881f-ff850ad65263"
      },
      "source": [
        "A = np.c_[x, np.ones(x.shape)]\n",
        "p = np.linalg.solve(A.T @ A, A.T @ y)\n",
        "print(p)"
      ],
      "execution_count": 69,
      "outputs": [
        {
          "output_type": "stream",
          "text": [
            "[ 2.5984993  -1.37612806]\n"
          ],
          "name": "stdout"
        }
      ]
    },
    {
      "cell_type": "code",
      "metadata": {
        "id": "Krx7-7voL-gr",
        "colab_type": "code",
        "colab": {
          "base_uri": "https://localhost:8080/",
          "height": 284
        },
        "outputId": "05996ee5-1728-4600-b36a-78aa5d10ca5d"
      },
      "source": [
        "plt.plot(x, y)\n",
        "plt.plot(x, y_2)"
      ],
      "execution_count": 70,
      "outputs": [
        {
          "output_type": "execute_result",
          "data": {
            "text/plain": [
              "[<matplotlib.lines.Line2D at 0x7fbdf91c6080>]"
            ]
          },
          "metadata": {
            "tags": []
          },
          "execution_count": 70
        },
        {
          "output_type": "display_data",
          "data": {
            "image/png": "[encoded data removed]",
            "text/plain": [
              "<Figure size 432x288 with 1 Axes>"
            ]
          },
          "metadata": {
            "tags": []
          }
        }
      ]
    },
    {
      "cell_type": "code",
      "metadata": {
        "id": "AiwaGYYNMMzg",
        "colab_type": "code",
        "colab": {}
      },
      "source": [
        ""
      ],
      "execution_count": 0,
      "outputs": []
    }
  ]
}